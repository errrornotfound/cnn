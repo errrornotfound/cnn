{
    "nbformat_minor": 1, 
    "cells": [
        {
            "source": "# ResNet50 from Keras (Just testing)", 
            "cell_type": "markdown", 
            "metadata": {}
        }, 
        {
            "execution_count": 1, 
            "cell_type": "code", 
            "metadata": {}, 
            "outputs": [
                {
                    "output_type": "stream", 
                    "name": "stderr", 
                    "text": "Using TensorFlow backend.\n"
                }
            ], 
            "source": "from keras.applications.resnet50 import ResNet50\nfrom keras.preprocessing import image\nfrom keras.applications.resnet50 import preprocess_input, decode_predictions\nimport numpy as np"
        }, 
        {
            "source": "Here model is Resnet50 imported from keras applications inbuild trained model", 
            "cell_type": "markdown", 
            "metadata": {}
        }, 
        {
            "execution_count": 2, 
            "cell_type": "code", 
            "metadata": {}, 
            "outputs": [], 
            "source": "model = ResNet50(weights='imagenet')"
        }, 
        {
            "execution_count": 3, 
            "cell_type": "code", 
            "metadata": {}, 
            "outputs": [
                {
                    "output_type": "stream", 
                    "name": "stdout", 
                    "text": "--2018-07-10 23:34:53--  http://animals.sandiegozoo.org/sites/default/files/inline-images/peacock_01.jpg\nResolving animals.sandiegozoo.org (animals.sandiegozoo.org)... 209.61.166.52\nConnecting to animals.sandiegozoo.org (animals.sandiegozoo.org)|209.61.166.52|:80... connected.\nHTTP request sent, awaiting response... 200 OK\nLength: 156374 (153K) [image/jpeg]\nSaving to: \u2018peacock_01.jpg\u2019\n\n100%[======================================>] 156,374     --.-K/s   in 0.1s    \n\n2018-07-10 23:34:53 (1.27 MB/s) - \u2018peacock_01.jpg\u2019 saved [156374/156374]\n\n"
                }
            ], 
            "source": "!wget http://animals.sandiegozoo.org/sites/default/files/inline-images/peacock_01.jpg"
        }, 
        {
            "source": "Downloading image", 
            "cell_type": "markdown", 
            "metadata": {}
        }, 
        {
            "execution_count": 4, 
            "cell_type": "code", 
            "metadata": {}, 
            "outputs": [], 
            "source": "!mv peacock_01.jpg peacock.jpg       # moving image to specified path"
        }, 
        {
            "execution_count": null, 
            "cell_type": "code", 
            "metadata": {}, 
            "outputs": [], 
            "source": "Image preproc"
        }, 
        {
            "execution_count": 5, 
            "cell_type": "code", 
            "metadata": {}, 
            "outputs": [], 
            "source": "img_path = 'peacock.jpg'\nimg = image.load_img(img_path, target_size=(224,224))\nx = image.img_to_array(img)\nx = np.expand_dims(x, axis=0)\nx = preprocess_input(x)"
        }, 
        {
            "execution_count": 6, 
            "cell_type": "code", 
            "metadata": {}, 
            "outputs": [
                {
                    "output_type": "stream", 
                    "name": "stdout", 
                    "text": "Predicted:  [('n01806143', 'peacock', 0.9998778), ('n02437312', 'Arabian_camel', 3.6181413e-05), ('n04325704', 'stole', 2.2954458e-05)]\n"
                }
            ], 
            "source": "preds = model.predict(x)\nprint(\"Predicted: \", decode_predictions(preds, top=3)[0])"
        }, 
        {
            "execution_count": null, 
            "cell_type": "code", 
            "metadata": {}, 
            "outputs": [], 
            "source": ""
        }
    ], 
    "metadata": {
        "kernelspec": {
            "display_name": "Python 3.5 with Spark 2.1", 
            "name": "python3-spark21", 
            "language": "python"
        }, 
        "language_info": {
            "mimetype": "text/x-python", 
            "nbconvert_exporter": "python", 
            "version": "3.5.4", 
            "name": "python", 
            "file_extension": ".py", 
            "pygments_lexer": "ipython3", 
            "codemirror_mode": {
                "version": 3, 
                "name": "ipython"
            }
        }
    }, 
    "nbformat": 4
}